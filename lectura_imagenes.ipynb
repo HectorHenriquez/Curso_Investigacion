{
 "cells": [
  {
   "cell_type": "markdown",
   "metadata": {},
   "source": [
    "## Curso de Investigación para Radiología\n",
    "\n",
    "* Héctor Henríquez Leighton MD, MS\n",
    "* hhenriquez@miuandes.cl"
   ]
  },
  {
   "cell_type": "code",
   "execution_count": null,
   "metadata": {
    "colab": {
     "base_uri": "https://localhost:8080/"
    },
    "id": "aeuM-Fwr9Wf9",
    "outputId": "0e5da0e9-1403-4184-bcbd-a42c20e06e6b"
   },
   "outputs": [],
   "source": [
    "! pip install SimpleITK\n",
    "! pip install pydicom"
   ]
  },
  {
   "cell_type": "code",
   "execution_count": null,
   "metadata": {
    "colab": {
     "base_uri": "https://localhost:8080/"
    },
    "id": "aacMf5Mg9Z0Q",
    "outputId": "2f8de46b-526f-4f05-8bf2-29ce50ff3e2a"
   },
   "outputs": [],
   "source": [
    "import numpy as np\n",
    "import SimpleITK as sitk\n",
    "import matplotlib.pyplot as plt\n",
    "import pydicom\n",
    "import matplotlib.pyplot as plt\n",
    "from mpl_toolkits.mplot3d import Axes3D\n",
    "import plotly.graph_objects as go\n",
    "import requests\n",
    "import json\n",
    "\n",
    "## Suprimir advertencias\n",
    "import warnings\n",
    "warnings.filterwarnings('ignore')\n",
    "\n",
    "## Descarga de token de kaggle que permite acceder al set de datos\n",
    "json_response= requests.get(\"https://raw.github.com/HectorHenriquez/Airway_segmentation/main/kaggle.json\")\n",
    "token = json.loads(json_response.text)\n",
    "with open(\"kaggle.json\", \"w\") as outfile:\n",
    "    json.dump(token, outfile)\n",
    "\n",
    "## Carga de datos desde Kaggle\n",
    "! pip install kaggle\n",
    "! mkdir ~/.kaggle\n",
    "! cp kaggle.json ~/.kaggle/\n",
    "! chmod 600 ~/.kaggle/kaggle.json\n",
    "\n",
    "## Dataset\n",
    "! kaggle datasets download hshenriquez/curso-investigacion-imagenes\n",
    "!unzip /content/curso-investigacion-imagenes"
   ]
  },
  {
   "cell_type": "code",
   "execution_count": null,
   "metadata": {
    "id": "uHwr-ChwK7-9"
   },
   "outputs": [],
   "source": [
    "def show_slice_window(slice, level, window):\n",
    "    \"\"\"\n",
    "    input: imagen array 2D,\n",
    "    permite ajustar ventana y nivel para mejorar contraste de la imagen.\n",
    "    output: imagen array 2D ventaneada.\n",
    "   \"\"\"\n",
    "    max = level + window/2\n",
    "    min = level - window/2\n",
    "    slice = slice.clip(min,max)\n",
    "    return(slice)"
   ]
  },
  {
   "cell_type": "markdown",
   "metadata": {
    "id": "whgi3S86IACC"
   },
   "source": [
    "### Leer archivo DICOM"
   ]
  },
  {
   "cell_type": "code",
   "execution_count": null,
   "metadata": {
    "colab": {
     "base_uri": "https://localhost:8080/"
    },
    "id": "S9Tn2Gze-4Tb",
    "outputId": "4068e4f5-8cfd-4cac-86cc-46ac6f17065e"
   },
   "outputs": [],
   "source": [
    "# Cargar el archivo DICOM\n",
    "ds = pydicom.dcmread(\"/content/rx_anon.dcm\")\n",
    "print(ds)"
   ]
  },
  {
   "cell_type": "code",
   "execution_count": null,
   "metadata": {
    "colab": {
     "base_uri": "https://localhost:8080/"
    },
    "id": "5FrZ9-jHEmC8",
    "outputId": "82ebc3ba-7c79-49d0-89d1-8dc59843204c"
   },
   "outputs": [],
   "source": [
    "### Acceder a campos específicos:\n",
    "print(\"Nombre:\", ds.PatientName)\n",
    "print(\"KVP:\", ds.KVP)\n",
    "print(\"Exposure Time:\", ds.ExposureTime)\n",
    "print(\"Tube Current:\", ds.XRayTubeCurrent)"
   ]
  },
  {
   "cell_type": "code",
   "execution_count": null,
   "metadata": {
    "colab": {
     "base_uri": "https://localhost:8080/"
    },
    "id": "hcR22z7FFIEx",
    "outputId": "a51513d1-8b02-4246-fb38-23c716c3fc0d"
   },
   "outputs": [],
   "source": [
    "## Acceder a la imagen:\n",
    "pixel_array = ds.pixel_array\n",
    "print(pixel_array.shape)"
   ]
  },
  {
   "cell_type": "code",
   "execution_count": null,
   "metadata": {
    "colab": {
     "base_uri": "https://localhost:8080/"
    },
    "id": "_yVP9rCOJGD1",
    "outputId": "80741cb9-1361-4aa1-850b-5f7a92d2875b"
   },
   "outputs": [],
   "source": [
    "## Valores máximos, mínimos y promedio\n",
    "print(pixel_array.max())\n",
    "print(pixel_array.min())\n",
    "print(pixel_array.mean())"
   ]
  },
  {
   "cell_type": "code",
   "execution_count": null,
   "metadata": {
    "colab": {
     "base_uri": "https://localhost:8080/",
     "height": 472
    },
    "id": "BCyFH4mMJSLm",
    "outputId": "1a1578c4-44ec-43d7-e145-c6e14dc1c5f3"
   },
   "outputs": [],
   "source": [
    "plt.hist(pixel_array.ravel(), bins=256, color='dodgerblue', alpha=0.7)\n",
    "plt.title(\"Histograma de intensidades\")\n",
    "plt.xlabel(\"Valor de píxel\")\n",
    "plt.ylabel(\"Frecuencia\")\n",
    "plt.grid(True)"
   ]
  },
  {
   "cell_type": "code",
   "execution_count": null,
   "metadata": {
    "colab": {
     "base_uri": "https://localhost:8080/",
     "height": 834
    },
    "id": "KukDtx3mK9fI",
    "outputId": "386534cf-c801-4f8a-8183-d0192e059e76"
   },
   "outputs": [],
   "source": [
    "level = 1800\n",
    "width = 1000\n",
    "\n",
    "plt.figure(figsize=(10,10))\n",
    "plt.imshow(pixel_array, cmap='gray')\n",
    "#plt.imshow(show_slice_window(pixel_array,level,width), cmap='gray')\n",
    "plt.title(\"Rx array\")\n",
    "plt.show()"
   ]
  },
  {
   "cell_type": "code",
   "execution_count": null,
   "metadata": {
    "colab": {
     "base_uri": "https://localhost:8080/",
     "height": 472
    },
    "id": "thFIM_oLL25a",
    "outputId": "cec7312d-8f68-4534-9d49-2f8c46e6e8c9"
   },
   "outputs": [],
   "source": [
    "\n",
    "plt.hist(show_slice_window(pixel_array,level,width).ravel(), bins=256, color='dodgerblue', alpha=0.7)\n",
    "plt.title(\"Histograma de intensidades\")\n",
    "plt.xlabel(\"Valor de píxel\")\n",
    "plt.ylabel(\"Frecuencia\")\n",
    "plt.grid(True)"
   ]
  },
  {
   "cell_type": "code",
   "execution_count": null,
   "metadata": {
    "colab": {
     "base_uri": "https://localhost:8080/",
     "height": 452
    },
    "id": "Ij_FtGylLHwe",
    "outputId": "9073273f-64b0-459d-ad19-9296ee462f9a"
   },
   "outputs": [],
   "source": [
    "plt.figure()\n",
    "plt.imshow(pixel_array[0:500,0:500], cmap='gray')\n",
    "plt.title(\"Rx array\")\n",
    "plt.show()"
   ]
  },
  {
   "cell_type": "markdown",
   "metadata": {
    "id": "qUTM2000JnMI"
   },
   "source": [
    "### Leer archivos volumétricos"
   ]
  },
  {
   "cell_type": "code",
   "execution_count": null,
   "metadata": {
    "id": "3iTMMfmUEurT"
   },
   "outputs": [],
   "source": [
    "volume = sitk.ReadImage(\"/content/imaging.nii\")\n",
    "mask =  sitk.ReadImage(\"/content/segmentation.nii\")"
   ]
  },
  {
   "cell_type": "code",
   "execution_count": null,
   "metadata": {
    "colab": {
     "base_uri": "https://localhost:8080/"
    },
    "id": "zS2T8i8zJ4Tc",
    "outputId": "965bdc56-3ecf-48fa-9c32-6920ef692ee4"
   },
   "outputs": [],
   "source": [
    "### Propiedades de la imagen\n",
    "\n",
    "print(\"Dimensiones:\", volume.GetSize())\n",
    "print(\"Spacing:\", volume.GetSpacing())\n",
    "print(\"Dirección:\", volume.GetDirection())"
   ]
  },
  {
   "cell_type": "code",
   "execution_count": null,
   "metadata": {
    "colab": {
     "base_uri": "https://localhost:8080/"
    },
    "id": "necv7tdKJyds",
    "outputId": "988f7aa2-1ed3-4571-d629-d97aaada567a"
   },
   "outputs": [],
   "source": [
    "\n",
    "print(\"Dimensiones:\", mask.GetSize())\n",
    "print(\"Spacing:\", mask.GetSpacing())\n",
    "print(\"Dirección:\", mask.GetDirection())"
   ]
  },
  {
   "cell_type": "code",
   "execution_count": null,
   "metadata": {
    "colab": {
     "base_uri": "https://localhost:8080/"
    },
    "id": "-0ihZc94KYjg",
    "outputId": "f1cabbf3-49f7-4762-ac77-e5182d1dcca7"
   },
   "outputs": [],
   "source": [
    "### Acceder a los pixeles:\n",
    "\n",
    "volume_array = sitk.GetArrayFromImage(volume)\n",
    "mask_array = sitk.GetArrayFromImage(mask)\n",
    "print(volume_array.shape)\n",
    "print(mask_array.shape)"
   ]
  },
  {
   "cell_type": "code",
   "execution_count": null,
   "metadata": {
    "colab": {
     "base_uri": "https://localhost:8080/"
    },
    "id": "c-_FwkaqM6D9",
    "outputId": "e6b6e014-c831-49b7-cfda-e2b2d4571d85"
   },
   "outputs": [],
   "source": [
    "## Valores imagen:\n",
    "\n",
    "print(volume_array.max())\n",
    "print(volume_array.min())\n",
    "\n",
    "## valores máscara:\n",
    "print(mask_array.max())\n",
    "print(mask_array.min())"
   ]
  },
  {
   "cell_type": "markdown",
   "metadata": {
    "id": "SyvqUHW0NGto"
   },
   "source": []
  },
  {
   "cell_type": "code",
   "execution_count": null,
   "metadata": {
    "colab": {
     "base_uri": "https://localhost:8080/",
     "height": 472
    },
    "id": "JjQfbpfTKnlG",
    "outputId": "4a1b6ce6-d636-40b8-fc48-91d811b898f1"
   },
   "outputs": [],
   "source": [
    "## histograma\n",
    "plt.hist(volume_array.ravel(), bins=256, color='salmon', alpha=0.7)\n",
    "plt.title(\"Histograma de intensidades\")\n",
    "plt.xlabel(\"Valor de píxel\")\n",
    "plt.ylabel(\"Frecuencia\")\n",
    "plt.grid(True)"
   ]
  },
  {
   "cell_type": "code",
   "execution_count": null,
   "metadata": {
    "colab": {
     "base_uri": "https://localhost:8080/",
     "height": 435
    },
    "id": "PTpHjOfSMoPL",
    "outputId": "dee4a3ae-bfbf-47d3-c6f3-beedb882dbee"
   },
   "outputs": [],
   "source": [
    "## Visualización\n",
    "\n",
    "corte_axial=180\n",
    "\n",
    "plt.figure()\n",
    "plt.imshow(np.rot90(volume_array[:,:,corte_axial], k = -1), cmap='gray')\n",
    "plt.imshow(np.rot90(mask_array[:,:,corte_axial], k = -1), cmap='jet', alpha=0.3)\n",
    "plt.show()"
   ]
  },
  {
   "cell_type": "code",
   "execution_count": null,
   "metadata": {
    "id": "vnNZE3pmOEzA"
   },
   "outputs": [],
   "source": [
    "\n",
    "def visualize_3d_mask_labels_sampled(mask, sample_frac=0.1, alpha=0.5, title=\"\"):\n",
    "    zs, ys, xs = np.where(mask > 0)\n",
    "    vals = mask[zs, ys, xs]\n",
    "    # muestreo\n",
    "    n = len(zs)\n",
    "    idx = np.random.choice(n, size=int(n*sample_frac), replace=False)\n",
    "    zs, ys, xs, vals = zs[idx], ys[idx], xs[idx], vals[idx]\n",
    "\n",
    "    fig = go.Figure()\n",
    "    for lbl in np.unique(vals):\n",
    "        sel = vals == lbl\n",
    "        fig.add_trace(go.Scatter3d(\n",
    "            x=xs[sel], y=ys[sel], z=zs[sel],\n",
    "            mode='markers',\n",
    "            name=f\"Label {lbl}\",\n",
    "            marker=dict(size=2, opacity=alpha)\n",
    "        ))\n",
    "    fig.update_layout(title=title,\n",
    "                      scene=dict(xaxis_title='X', yaxis_title='Y', zaxis_title='Z'))\n",
    "    fig.show()"
   ]
  },
  {
   "cell_type": "code",
   "execution_count": null,
   "metadata": {
    "colab": {
     "base_uri": "https://localhost:8080/",
     "height": 542
    },
    "id": "3HxQXF4WOIF8",
    "outputId": "9e2a4787-84c7-4767-accc-97de9de54443"
   },
   "outputs": [],
   "source": [
    "visualize_3d_mask_labels_sampled(mask_array, sample_frac=0.1, alpha=0.5, title=\"Segmentación 3D\")"
   ]
  }
 ],
 "metadata": {
  "colab": {
   "provenance": []
  },
  "kernelspec": {
   "display_name": "Python 3 (ipykernel)",
   "language": "python",
   "name": "python3"
  },
  "language_info": {
   "codemirror_mode": {
    "name": "ipython",
    "version": 3
   },
   "file_extension": ".py",
   "mimetype": "text/x-python",
   "name": "python",
   "nbconvert_exporter": "python",
   "pygments_lexer": "ipython3",
   "version": "3.12.4"
  }
 },
 "nbformat": 4,
 "nbformat_minor": 4
}
