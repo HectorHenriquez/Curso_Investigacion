{
 "cells": [
  {
   "cell_type": "markdown",
   "metadata": {
    "id": "GCLOx78Nw7IO"
   },
   "source": [
    "### Seminario Estadística para Radiología\n",
    "#### Parte 2\n",
    "\n",
    "---\n",
    "\n",
    "\n",
    "* Héctor Henríquez MD, MS"
   ]
  },
  {
   "cell_type": "code",
   "execution_count": null,
   "metadata": {
    "executionInfo": {
     "elapsed": 3,
     "status": "ok",
     "timestamp": 1748881332808,
     "user": {
      "displayName": "Héctor Sebastián Henríquez Leighton",
      "userId": "05455882758400941593"
     },
     "user_tz": 240
    },
    "id": "u5TWGKJCe5ur"
   },
   "outputs": [],
   "source": [
    "### Librerías\n",
    "import numpy as np\n",
    "import pandas as pd\n",
    "pd.set_option('display.max_rows', None)\n",
    "pd.set_option('display.max_columns', None)\n",
    "import requests\n",
    "from collections import Counter\n",
    "\n",
    "# Visualización\n",
    "from plotnine import*\n",
    "import matplotlib.pyplot as plt\n",
    "\n",
    "# Modelamiento de datos\n",
    "from scipy import stats\n",
    "from scipy.stats import t, ttest_ind,chi2_contingency\n",
    "\n",
    "from sklearn import datasets\n",
    "\n",
    "from scipy.stats import mannwhitneyu, shapiro\n",
    "\n",
    "## Sistema\n",
    "import warnings\n",
    "warnings.filterwarnings(\"ignore\", category = FutureWarning)"
   ]
  },
  {
   "cell_type": "code",
   "execution_count": null,
   "metadata": {
    "colab": {
     "base_uri": "https://localhost:8080/",
     "height": 366
    },
    "executionInfo": {
     "elapsed": 758,
     "status": "ok",
     "timestamp": 1748877381657,
     "user": {
      "displayName": "Héctor Sebastián Henríquez Leighton",
      "userId": "05455882758400941593"
     },
     "user_tz": 240
    },
    "id": "d_cpJCiNMGHI",
    "outputId": "27955c69-f5b9-4e15-a3c6-4e99a647ec20"
   },
   "outputs": [],
   "source": [
    "data_url = 'https://raw.githubusercontent.com/HectorHenriquez/Curso_Investigacion/main/datasets/COLORECTAL_LIVER_METS.xlsx'\n",
    "data = pd.read_excel(data_url)\n",
    "print(\"Dimensiones set de datos:\", data.shape)\n",
    "data.head(5)"
   ]
  },
  {
   "cell_type": "code",
   "execution_count": null,
   "metadata": {},
   "outputs": [],
   "source": [
    "data.info()"
   ]
  },
  {
   "cell_type": "code",
   "execution_count": null,
   "metadata": {
    "colab": {
     "base_uri": "https://localhost:8080/",
     "height": 320
    },
    "executionInfo": {
     "elapsed": 189,
     "status": "ok",
     "timestamp": 1748880414310,
     "user": {
      "displayName": "Héctor Sebastián Henríquez Leighton",
      "userId": "05455882758400941593"
     },
     "user_tz": 240
    },
    "id": "Spg0iICkZUjj",
    "outputId": "70229198-d4f4-48ae-d36d-5d3271146d87"
   },
   "outputs": [],
   "source": [
    "data.describe()"
   ]
  },
  {
   "cell_type": "code",
   "execution_count": null,
   "metadata": {
    "colab": {
     "base_uri": "https://localhost:8080/"
    },
    "executionInfo": {
     "elapsed": 16,
     "status": "ok",
     "timestamp": 1748880408309,
     "user": {
      "displayName": "Héctor Sebastián Henríquez Leighton",
      "userId": "05455882758400941593"
     },
     "user_tz": 240
    },
    "id": "aRC4Hi8zZD6Q",
    "outputId": "06c14974-dd97-44d0-aa10-fb51a59d5d41"
   },
   "outputs": [],
   "source": [
    "## ¿Cuántos pacientes presentaron progresión o recurrencia hepática?\n",
    "Counter(data.progression_or_recurrence_liveronly)"
   ]
  },
  {
   "cell_type": "code",
   "execution_count": null,
   "metadata": {
    "colab": {
     "base_uri": "https://localhost:8080/"
    },
    "executionInfo": {
     "elapsed": 6,
     "status": "ok",
     "timestamp": 1748880491826,
     "user": {
      "displayName": "Héctor Sebastián Henríquez Leighton",
      "userId": "05455882758400941593"
     },
     "user_tz": 240
    },
    "id": "fd73MMeOZbeX",
    "outputId": "1590c198-8c21-4a03-ddbc-b592deae64dc"
   },
   "outputs": [],
   "source": [
    "## Edad de los pacientes:\n",
    "## Estadísticos generales:\n",
    "\n",
    "print(\"Promedio:\", data.age.mean())\n",
    "print(\"Mediana:\", data.age.median())"
   ]
  },
  {
   "cell_type": "code",
   "execution_count": null,
   "metadata": {
    "colab": {
     "base_uri": "https://localhost:8080/",
     "height": 515
    },
    "executionInfo": {
     "elapsed": 369,
     "status": "ok",
     "timestamp": 1748880500184,
     "user": {
      "displayName": "Héctor Sebastián Henríquez Leighton",
      "userId": "05455882758400941593"
     },
     "user_tz": 240
    },
    "id": "ACUfoTFgQEoR",
    "outputId": "5775fd0d-38c7-4189-efe9-7b713fcfe731"
   },
   "outputs": [],
   "source": [
    "## edad de los pacientes\n",
    "\n",
    "(\n",
    "    ggplot(data) +\n",
    "    aes(x='age') +\n",
    "    geom_histogram(fill='dodgerblue', color='black') +\n",
    "    theme_bw()\n",
    ")"
   ]
  },
  {
   "cell_type": "code",
   "execution_count": null,
   "metadata": {
    "colab": {
     "base_uri": "https://localhost:8080/"
    },
    "executionInfo": {
     "elapsed": 8,
     "status": "ok",
     "timestamp": 1748880909185,
     "user": {
      "displayName": "Héctor Sebastián Henríquez Leighton",
      "userId": "05455882758400941593"
     },
     "user_tz": 240
    },
    "id": "dR8jpD5zX7GF",
    "outputId": "00e54912-4091-461a-fd68-9ab1178159f6"
   },
   "outputs": [],
   "source": [
    "## ### Prueba paramétrica:\n",
    "\n",
    "variable_a_evaluar = 'age'\n",
    "target = 'progression_or_recurrence_liveronly'\n",
    "\n",
    "X_recurrencia = data[data[target] == 0][variable_a_evaluar]\n",
    "X_sin_recurrencia = data[data[target] == 1][variable_a_evaluar]\n",
    "\n",
    "print(\"std 1:\", X_recurrencia.std())\n",
    "print(\"std 2:,\", X_sin_recurrencia.std())\n",
    "\n",
    "st, p = stats.ttest_ind(X_recurrencia, X_sin_recurrencia, equal_var=True)\n",
    "print(\"p value:\", p)"
   ]
  },
  {
   "cell_type": "code",
   "execution_count": null,
   "metadata": {
    "colab": {
     "base_uri": "https://localhost:8080/",
     "height": 497
    },
    "executionInfo": {
     "elapsed": 609,
     "status": "ok",
     "timestamp": 1748880939591,
     "user": {
      "displayName": "Héctor Sebastián Henríquez Leighton",
      "userId": "05455882758400941593"
     },
     "user_tz": 240
    },
    "id": "DlOKJzzUa310",
    "outputId": "9858dfdd-2525-42e8-d0b5-b4ca184dce15"
   },
   "outputs": [],
   "source": [
    "\n",
    " (\n",
    "  ggplot(data) +\n",
    "  aes(x = 'factor({})'.format(target), y='{}'.format(variable_a_evaluar), fill='factor({})'.format(target)) +\n",
    "  geom_boxplot(outlier_color='red', outlier_alpha= 0.3) +\n",
    "  theme_bw() +\n",
    " labs(title='Distribución de - {} - según variable Target'.format(variable_a_evaluar), x='Recurrencia', fill='Recurrencia')\n",
    ")"
   ]
  },
  {
   "cell_type": "markdown",
   "metadata": {
    "id": "jjHLVIEnbujq"
   },
   "source": [
    "### Análisis no paramétrico"
   ]
  },
  {
   "cell_type": "code",
   "execution_count": null,
   "metadata": {
    "colab": {
     "base_uri": "https://localhost:8080/",
     "height": 515
    },
    "executionInfo": {
     "elapsed": 1029,
     "status": "ok",
     "timestamp": 1748880969588,
     "user": {
      "displayName": "Héctor Sebastián Henríquez Leighton",
      "userId": "05455882758400941593"
     },
     "user_tz": 240
    },
    "id": "cCxzTMJOyenc",
    "outputId": "018f7872-a120-4862-d5ed-dd81166bbb7c"
   },
   "outputs": [],
   "source": [
    "(\n",
    "    ggplot(data[data.carcinoembryonic_antigen > 0]) +\n",
    "    aes(x='carcinoembryonic_antigen') +\n",
    "    geom_histogram(fill='dodgerblue', color='black') +\n",
    "    theme_classic()\n",
    ")"
   ]
  },
  {
   "cell_type": "code",
   "execution_count": null,
   "metadata": {
    "colab": {
     "base_uri": "https://localhost:8080/"
    },
    "executionInfo": {
     "elapsed": 5,
     "status": "ok",
     "timestamp": 1748881030800,
     "user": {
      "displayName": "Héctor Sebastián Henríquez Leighton",
      "userId": "05455882758400941593"
     },
     "user_tz": 240
    },
    "id": "XqMAYc5Wzt39",
    "outputId": "eb8b9933-1d31-4725-9a29-f166f66e76d6"
   },
   "outputs": [],
   "source": [
    "### Pruebas no paramétricas:\n",
    "\n",
    "\n",
    "variable_a_evaluar = 'carcinoembryonic_antigen'\n",
    "target = 'progression_or_recurrence_liveronly'\n",
    "\n",
    "X_recurrencia = data[data[target] == 0][variable_a_evaluar]\n",
    "X_sin_recurrencia = data[data[target] == 1][variable_a_evaluar]\n",
    "\n",
    "\n",
    "U1, p = mannwhitneyu(X_recurrencia, X_sin_recurrencia)\n",
    "print(\"p value:\",p)"
   ]
  },
  {
   "cell_type": "code",
   "execution_count": null,
   "metadata": {
    "colab": {
     "base_uri": "https://localhost:8080/",
     "height": 533
    },
    "executionInfo": {
     "elapsed": 650,
     "status": "ok",
     "timestamp": 1748881106823,
     "user": {
      "displayName": "Héctor Sebastián Henríquez Leighton",
      "userId": "05455882758400941593"
     },
     "user_tz": 240
    },
    "id": "EyU6frCmbtiG",
    "outputId": "b1d565ad-0144-4325-cc7d-7adbe7cc2d36"
   },
   "outputs": [],
   "source": [
    "\n",
    " (\n",
    "  ggplot(data) +\n",
    "  aes(x = 'factor({})'.format(target), y='{}'.format(variable_a_evaluar), fill='factor({})'.format(target)) +\n",
    "  geom_boxplot(outlier_color='red', outlier_alpha= 0.3) +\n",
    "  theme_bw() +\n",
    " labs(title='Distribución de - {} - según variable Target'.format(variable_a_evaluar), x='Recurrencia', fill='Recurrencia')+\n",
    "  scale_y_log10()\n",
    "\n",
    ")"
   ]
  },
  {
   "cell_type": "markdown",
   "metadata": {
    "id": "6Hf768wwcO3k"
   },
   "source": [
    "## Análisis de variables categóricas:"
   ]
  },
  {
   "cell_type": "code",
   "execution_count": null,
   "metadata": {
    "colab": {
     "base_uri": "https://localhost:8080/"
    },
    "executionInfo": {
     "elapsed": 9,
     "status": "ok",
     "timestamp": 1748881223675,
     "user": {
      "displayName": "Héctor Sebastián Henríquez Leighton",
      "userId": "05455882758400941593"
     },
     "user_tz": 240
    },
    "id": "9HNcoB5ELCIm",
    "outputId": "a38018c8-ae97-419b-b32f-a67157ae6d45"
   },
   "outputs": [],
   "source": [
    "Counter(data.chemo_before_liver_resection)"
   ]
  },
  {
   "cell_type": "code",
   "execution_count": null,
   "metadata": {
    "colab": {
     "base_uri": "https://localhost:8080/",
     "height": 143
    },
    "executionInfo": {
     "elapsed": 73,
     "status": "ok",
     "timestamp": 1748881267718,
     "user": {
      "displayName": "Héctor Sebastián Henríquez Leighton",
      "userId": "05455882758400941593"
     },
     "user_tz": 240
    },
    "id": "58rqHPfMca68",
    "outputId": "7b719647-7a00-4118-80d4-b75b87ab5951"
   },
   "outputs": [],
   "source": [
    "target = 'progression_or_recurrence_liveronly'\n",
    "\n",
    "tabla_contingencia = pd.crosstab(data[target], data.chemo_before_liver_resection)\n",
    "tabla_contingencia"
   ]
  },
  {
   "cell_type": "code",
   "execution_count": null,
   "metadata": {
    "colab": {
     "base_uri": "https://localhost:8080/"
    },
    "executionInfo": {
     "elapsed": 13,
     "status": "ok",
     "timestamp": 1748881346943,
     "user": {
      "displayName": "Héctor Sebastián Henríquez Leighton",
      "userId": "05455882758400941593"
     },
     "user_tz": 240
    },
    "id": "sHDjrn76clqL",
    "outputId": "10461038-6302-4d10-e6c8-ecbe7d90782c"
   },
   "outputs": [],
   "source": [
    "\n",
    "# Prueba de Chi-cuadrado\n",
    "chi2, p, dof, expected = chi2_contingency(tabla_contingencia)\n",
    "\n",
    "print(\"Estadístico Chi2:\", chi2)\n",
    "print(\"Valor p:\", p)\n",
    "print(\"Grados de libertad:\", dof)\n",
    "print(\"Frecuencias esperadas:\\n\", expected)\n"
   ]
  },
  {
   "cell_type": "code",
   "execution_count": null,
   "metadata": {
    "id": "2OzLQWBFc5BG"
   },
   "outputs": [],
   "source": []
  }
 ],
 "metadata": {
  "colab": {
   "provenance": []
  },
  "kernelspec": {
   "display_name": "Python 3 (ipykernel)",
   "language": "python",
   "name": "python3"
  },
  "language_info": {
   "codemirror_mode": {
    "name": "ipython",
    "version": 3
   },
   "file_extension": ".py",
   "mimetype": "text/x-python",
   "name": "python",
   "nbconvert_exporter": "python",
   "pygments_lexer": "ipython3",
   "version": "3.12.4"
  }
 },
 "nbformat": 4,
 "nbformat_minor": 4
}
