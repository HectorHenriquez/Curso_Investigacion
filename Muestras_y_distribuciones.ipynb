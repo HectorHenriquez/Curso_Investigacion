{
 "cells": [
  {
   "cell_type": "code",
   "execution_count": null,
   "metadata": {
    "id": "ff40QmXr_bnG"
   },
   "outputs": [],
   "source": [
    "import numpy as np\n",
    "import pandas as pd\n",
    "from plotnine import*"
   ]
  },
  {
   "cell_type": "code",
   "execution_count": null,
   "metadata": {
    "id": "6KYHDmzN_juE"
   },
   "outputs": [],
   "source": [
    "## Simulamos datos poblacionales\n",
    "mu = 35\n",
    "sigma = 15\n",
    "n = 10000\n",
    "S = np.random.normal(loc=mu, scale=sigma, size=n)"
   ]
  },
  {
   "cell_type": "code",
   "execution_count": null,
   "metadata": {
    "colab": {
     "base_uri": "https://localhost:8080/"
    },
    "id": "A9QJNe-QfRqO",
    "outputId": "e5389117-38c3-4d15-8409-dd7c7e90d8c4"
   },
   "outputs": [],
   "source": [
    "print(S)"
   ]
  },
  {
   "cell_type": "code",
   "execution_count": null,
   "metadata": {
    "colab": {
     "base_uri": "https://localhost:8080/"
    },
    "id": "84scAnM9AFxf",
    "outputId": "471e78a9-8862-476b-ef53-d361e6aea4a5"
   },
   "outputs": [],
   "source": [
    "print(\"Promedio poblacional:\", S.mean())\n",
    "print(\"Desviación estandar poblacional:\", S.std())"
   ]
  },
  {
   "cell_type": "code",
   "execution_count": null,
   "metadata": {
    "colab": {
     "base_uri": "https://localhost:8080/",
     "height": 497
    },
    "id": "GvCbcNFuAj7P",
    "outputId": "59e15857-4d43-4187-adbf-92340a710118"
   },
   "outputs": [],
   "source": [
    "(\n",
    " ggplot() +\n",
    " aes(x=S) +\n",
    " geom_histogram(bins=50, fill='dodgerblue', color='black', alpha=0.7) +\n",
    " theme_bw() +\n",
    " labs(title='Distribución poblacional')\n",
    ")"
   ]
  },
  {
   "cell_type": "code",
   "execution_count": null,
   "metadata": {
    "colab": {
     "base_uri": "https://localhost:8080/",
     "height": 566
    },
    "id": "WGlRWfIPALDd",
    "outputId": "e5c37e72-ba97-4128-fe75-17fd4a42a099"
   },
   "outputs": [],
   "source": [
    "## Extracción de muestra\n",
    "n_sample = 100\n",
    "sample = np.random.choice(S, size=n_sample)\n",
    "\n",
    "print(\"Media muestral:\", sample.mean())\n",
    "print(\"Desviación estandar muestral:\", sample.std())\n",
    "print(\"\")\n",
    "\n",
    "(\n",
    " ggplot() +\n",
    " aes(x=sample) +\n",
    " geom_histogram(fill='salmon', color='black', alpha=0.7) +\n",
    " theme_bw() +\n",
    " labs(title=\"Distribución muestral\")\n",
    ")"
   ]
  },
  {
   "cell_type": "code",
   "execution_count": null,
   "metadata": {
    "id": "ojzGJBU3BI1Q"
   },
   "outputs": [],
   "source": [
    "### experimentos de muestras\n",
    "\n",
    "n_samples = [10,100,1000,10000]\n",
    "repeticiones = 100\n",
    "\n",
    "medias_muestrales = []\n",
    "samples_sizes = []\n",
    "\n",
    "for i in range(repeticiones):\n",
    "  for sample_size in n_samples:\n",
    "    sample = np.random.choice(S, size=sample_size)\n",
    "    medias_muestrales.append(sample.mean())\n",
    "    samples_sizes.append(sample_size)\n"
   ]
  },
  {
   "cell_type": "code",
   "execution_count": null,
   "metadata": {
    "colab": {
     "base_uri": "https://localhost:8080/",
     "height": 497
    },
    "id": "ONxbvkJaLNZf",
    "outputId": "d2bc1e05-010a-4a2d-b915-f3d1309b4eb8"
   },
   "outputs": [],
   "source": [
    "\n",
    "df = pd.DataFrame()\n",
    "df['valores'] = medias_muestrales\n",
    "df['size'] = samples_sizes\n",
    "\n",
    "(\n",
    " ggplot(df)+\n",
    " aes(x='factor(size)', y='valores')+\n",
    " geom_boxplot() +\n",
    " theme_bw() +\n",
    " labs(x=\"Tamaños muestrales\", y='Media muestral') +\n",
    " scale_y_continuous(limits=[20,60], breaks=np.arange(20,65,5))\n",
    ")"
   ]
  },
  {
   "cell_type": "code",
   "execution_count": null,
   "metadata": {
    "id": "3wO3eWr6GmRY"
   },
   "outputs": [],
   "source": []
  }
 ],
 "metadata": {
  "colab": {
   "provenance": []
  },
  "kernelspec": {
   "display_name": "Python 3 (ipykernel)",
   "language": "python",
   "name": "python3"
  },
  "language_info": {
   "codemirror_mode": {
    "name": "ipython",
    "version": 3
   },
   "file_extension": ".py",
   "mimetype": "text/x-python",
   "name": "python",
   "nbconvert_exporter": "python",
   "pygments_lexer": "ipython3",
   "version": "3.12.4"
  }
 },
 "nbformat": 4,
 "nbformat_minor": 4
}
