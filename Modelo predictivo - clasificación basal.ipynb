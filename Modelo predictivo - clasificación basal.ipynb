{
 "cells": [
  {
   "cell_type": "markdown",
   "metadata": {
    "id": "GCLOx78Nw7IO"
   },
   "source": [
    "### Seminario Estadística para Radiología\n",
    "#### Parte 2\n",
    "\n",
    "---\n",
    "\n",
    "\n",
    "* Héctor Henríquez MD, MS"
   ]
  },
  {
   "cell_type": "code",
   "execution_count": null,
   "metadata": {
    "executionInfo": {
     "elapsed": 3,
     "status": "ok",
     "timestamp": 1748881332808,
     "user": {
      "displayName": "Héctor Sebastián Henríquez Leighton",
      "userId": "05455882758400941593"
     },
     "user_tz": 240
    },
    "id": "u5TWGKJCe5ur"
   },
   "outputs": [],
   "source": [
    "### Librerías\n",
    "import numpy as np\n",
    "import pandas as pd\n",
    "pd.set_option('display.max_rows', None)\n",
    "pd.set_option('display.max_columns', None)\n",
    "import requests\n",
    "from collections import Counter\n",
    "\n",
    "# Visualización\n",
    "from plotnine import*\n",
    "import matplotlib.pyplot as plt\n",
    "import seaborn as sns\n",
    "\n",
    "# Modelamiento de datos\n",
    "from scipy import stats\n",
    "from sklearn.model_selection import train_test_split\n",
    "from sklearn.linear_model import LogisticRegression\n",
    "from sklearn.metrics import classification_report, confusion_matrix\n",
    "from sklearn.preprocessing import StandardScaler\n",
    "\n",
    "## Sistema\n",
    "import warnings\n",
    "warnings.filterwarnings(\"ignore\", category = FutureWarning)"
   ]
  },
  {
   "cell_type": "code",
   "execution_count": 3,
   "metadata": {},
   "outputs": [],
   "source": [
    "\n",
    "def plot_confusion_matrix(y_true, y_pred, class_names=None, normalize=None, title='Confusion Matrix', cmap='Blues'):\n",
    "    \n",
    "    # Calcular matriz de confusión\n",
    "    cm = confusion_matrix(y_true, y_pred, labels=class_names, normalize=normalize)\n",
    "    \n",
    "    # Si class_names no se pasa, se calculan a partir de las clases presentes\n",
    "    if class_names is None:\n",
    "        class_names = np.unique(np.concatenate((y_true, y_pred)))\n",
    "\n",
    "    plt.figure(figsize=(8, 6))\n",
    "    sns.heatmap(cm, annot=True, fmt='.2f' if normalize else 'd', cmap=cmap,\n",
    "                 xticklabels=class_names, yticklabels=class_names)\n",
    "    plt.xlabel('Predicted Labels', fontsize=12)\n",
    "    plt.ylabel('True Labels', fontsize=12)\n",
    "    plt.title(title, fontsize=14)\n",
    "    plt.tight_layout()\n",
    "    plt.show()"
   ]
  },
  {
   "cell_type": "code",
   "execution_count": null,
   "metadata": {
    "colab": {
     "base_uri": "https://localhost:8080/",
     "height": 366
    },
    "executionInfo": {
     "elapsed": 758,
     "status": "ok",
     "timestamp": 1748877381657,
     "user": {
      "displayName": "Héctor Sebastián Henríquez Leighton",
      "userId": "05455882758400941593"
     },
     "user_tz": 240
    },
    "id": "d_cpJCiNMGHI",
    "outputId": "27955c69-f5b9-4e15-a3c6-4e99a647ec20"
   },
   "outputs": [],
   "source": [
    "data_url = 'https://raw.githubusercontent.com/HectorHenriquez/Curso_Investigacion/main/datasets/COLORECTAL_LIVER_METS.xlsx'\n",
    "data = pd.read_excel(data_url)\n",
    "print(\"Dimensiones set de datos:\", data.shape)\n",
    "data.head(5)"
   ]
  },
  {
   "cell_type": "code",
   "execution_count": null,
   "metadata": {
    "colab": {
     "base_uri": "https://localhost:8080/"
    },
    "executionInfo": {
     "elapsed": 16,
     "status": "ok",
     "timestamp": 1748880408309,
     "user": {
      "displayName": "Héctor Sebastián Henríquez Leighton",
      "userId": "05455882758400941593"
     },
     "user_tz": 240
    },
    "id": "aRC4Hi8zZD6Q",
    "outputId": "06c14974-dd97-44d0-aa10-fb51a59d5d41"
   },
   "outputs": [],
   "source": [
    "## ¿Cuántos pacientes presentaron progresión o recurrencia hepática?\n",
    "Counter(data.progression_or_recurrence_liveronly)"
   ]
  },
  {
   "cell_type": "code",
   "execution_count": null,
   "metadata": {},
   "outputs": [],
   "source": [
    "data.columns"
   ]
  },
  {
   "cell_type": "code",
   "execution_count": null,
   "metadata": {},
   "outputs": [],
   "source": [
    "## Selección de variables para modelo\n",
    "\n",
    "variables_X = ['age', 'sex','major_comorbidity', 'body_mass_index', 'node_positive_primary',\n",
    "       'synchronous_crlm', 'multiple_metastases', 'clinrisk_score',\n",
    "       'clinrisk_stratified', 'carcinoembryonic_antigen', 'max_tumor_size',\n",
    "       'bilobar_disease', 'extrahep_disease', 'chemo_before_liver_resection',\n",
    "       'preoperative_pve', 'steatosis_yesno', 'presence_sinusoidal_dilata',\n",
    "       'NASH_score', 'total_response_percent','necrosis_percent', 'fibrosis_percent']\n",
    "\n",
    "target = 'progression_or_recurrence_liveronly'"
   ]
  },
  {
   "cell_type": "code",
   "execution_count": null,
   "metadata": {},
   "outputs": [],
   "source": [
    "X = data.loc[:,variables_X]\n",
    "y = data.loc[:,target]\n",
    "X.head()"
   ]
  },
  {
   "cell_type": "code",
   "execution_count": null,
   "metadata": {},
   "outputs": [],
   "source": [
    "## Separación de datos\n",
    "X_train, X_test, y_train, y_test = train_test_split(X, y, test_size=0.33, random_state=42)\n",
    "\n",
    "print(X_train.shape)\n",
    "print(y_train.shape)\n",
    "print(X_test.shape)\n",
    "print(y_test.shape)"
   ]
  },
  {
   "cell_type": "code",
   "execution_count": null,
   "metadata": {},
   "outputs": [],
   "source": [
    "### Escalado de los valores\n",
    "scaler = StandardScaler()\n",
    "X_train_scaled = scaler.fit_transform(X_train)\n",
    "X_test_scaled = scaler.transform(X_test)\n"
   ]
  },
  {
   "cell_type": "code",
   "execution_count": null,
   "metadata": {},
   "outputs": [],
   "source": [
    "### Ajustar modelo\n",
    "\n",
    "model = LogisticRegression()\n",
    "model.fit(X_train_scaled, y_train)\n"
   ]
  },
  {
   "cell_type": "code",
   "execution_count": null,
   "metadata": {},
   "outputs": [],
   "source": [
    "y_pred = model.predict_proba(X_test_scaled)\n",
    "y_pred[0:10]"
   ]
  },
  {
   "cell_type": "code",
   "execution_count": null,
   "metadata": {},
   "outputs": [],
   "source": [
    "umbral = 0.45\n",
    "y_pred_bin = np.where(y_pred[:,1] > umbral, 1, 0)"
   ]
  },
  {
   "cell_type": "code",
   "execution_count": null,
   "metadata": {},
   "outputs": [],
   "source": [
    "print(classification_report(y_test, y_pred_bin))"
   ]
  },
  {
   "cell_type": "code",
   "execution_count": null,
   "metadata": {},
   "outputs": [],
   "source": [
    "plot_confusion_matrix(y_test, y_pred_bin)"
   ]
  }
 ],
 "metadata": {
  "colab": {
   "provenance": []
  },
  "kernelspec": {
   "display_name": "Python 3 (ipykernel)",
   "language": "python",
   "name": "python3"
  },
  "language_info": {
   "codemirror_mode": {
    "name": "ipython",
    "version": 3
   },
   "file_extension": ".py",
   "mimetype": "text/x-python",
   "name": "python",
   "nbconvert_exporter": "python",
   "pygments_lexer": "ipython3",
   "version": "3.12.4"
  }
 },
 "nbformat": 4,
 "nbformat_minor": 4
}
